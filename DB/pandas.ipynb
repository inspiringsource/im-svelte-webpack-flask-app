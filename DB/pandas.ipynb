{
 "cells": [
  {
   "attachments": {},
   "cell_type": "markdown",
   "metadata": {},
   "source": [
    "The purpose of this code is to facilitate database exploration by using SQLAlchemy to connect to and inspect a SQLite database. We'll then use pandas to load data from the database into a DataFrame.\n",
    "\n",
    "⚠️ This script should be executed after running `create_db.py` and creating the database tables in the web app. "
   ]
  },
  {
   "cell_type": "code",
   "execution_count": 1,
   "metadata": {},
   "outputs": [],
   "source": [
    "# Import the required modules\n",
    "import pandas as pd\n",
    "from sqlalchemy import create_engine, inspect"
   ]
  },
  {
   "cell_type": "code",
   "execution_count": 2,
   "metadata": {},
   "outputs": [],
   "source": [
    "\n",
    "# Create an engine that connects to the SQLite database\n",
    "# Here, we are connecting to a SQLite database named test.db\n",
    "engine = create_engine('sqlite:///test.db')"
   ]
  },
  {
   "cell_type": "code",
   "execution_count": 3,
   "metadata": {},
   "outputs": [],
   "source": [
    "# Create an Inspector instance to introspect the database and extract schema information\n",
    "inspector = inspect(engine)"
   ]
  },
  {
   "cell_type": "code",
   "execution_count": 4,
   "metadata": {},
   "outputs": [
    {
     "name": "stdout",
     "output_type": "stream",
     "text": [
      "Table Names: ['order', 'product']\n"
     ]
    }
   ],
   "source": [
    "# Get a list of table names in the database\n",
    "# Here, we are printing out the table names for clarity\n",
    "table_names = inspector.get_table_names()\n",
    "print(f\"Table Names: {table_names}\")  # Expected Output: ['order', 'product']"
   ]
  },
  {
   "cell_type": "code",
   "execution_count": 5,
   "metadata": {},
   "outputs": [
    {
     "name": "stdout",
     "output_type": "stream",
     "text": [
      "Column Details: [{'name': 'id', 'type': INTEGER(), 'nullable': False, 'default': None, 'primary_key': 1}, {'name': 'name', 'type': VARCHAR(length=50), 'nullable': False, 'default': None, 'primary_key': 0}, {'name': 'description', 'type': VARCHAR(length=120), 'nullable': False, 'default': None, 'primary_key': 0}, {'name': 'quantity', 'type': INTEGER(), 'nullable': False, 'default': None, 'primary_key': 0}]\n"
     ]
    }
   ],
   "source": [
    "# Get detailed column information for a specific table, here 'product'\n",
    "# This includes details like column names, data types, whether nullable or not, etc.\n",
    "columns = inspector.get_columns('product')\n",
    "print(f\"Column Details: {columns}\")"
   ]
  },
  {
   "cell_type": "code",
   "execution_count": 6,
   "metadata": {},
   "outputs": [],
   "source": [
    "# Now we can load data from a table into a pandas DataFrame using the SQL query\n",
    "# Here, we are selecting all rows and columns from the 'product' table\n",
    "df = pd.read_sql('SELECT * FROM product', engine)"
   ]
  },
  {
   "cell_type": "code",
   "execution_count": 8,
   "metadata": {},
   "outputs": [
    {
     "data": {
      "text/html": [
       "<div>\n",
       "<style scoped>\n",
       "    .dataframe tbody tr th:only-of-type {\n",
       "        vertical-align: middle;\n",
       "    }\n",
       "\n",
       "    .dataframe tbody tr th {\n",
       "        vertical-align: top;\n",
       "    }\n",
       "\n",
       "    .dataframe thead th {\n",
       "        text-align: right;\n",
       "    }\n",
       "</style>\n",
       "<table border=\"1\" class=\"dataframe\">\n",
       "  <thead>\n",
       "    <tr style=\"text-align: right;\">\n",
       "      <th></th>\n",
       "      <th>id</th>\n",
       "      <th>name</th>\n",
       "      <th>description</th>\n",
       "      <th>quantity</th>\n",
       "    </tr>\n",
       "  </thead>\n",
       "  <tbody>\n",
       "    <tr>\n",
       "      <th>0</th>\n",
       "      <td>1</td>\n",
       "      <td>test-product</td>\n",
       "      <td>test description</td>\n",
       "      <td>88</td>\n",
       "    </tr>\n",
       "    <tr>\n",
       "      <th>1</th>\n",
       "      <td>2</td>\n",
       "      <td>cat</td>\n",
       "      <td>cute and adorable</td>\n",
       "      <td>1</td>\n",
       "    </tr>\n",
       "  </tbody>\n",
       "</table>\n",
       "</div>"
      ],
      "text/plain": [
       "   id          name        description  quantity\n",
       "0   1  test-product   test description        88\n",
       "1   2           cat  cute and adorable         1"
      ]
     },
     "execution_count": 8,
     "metadata": {},
     "output_type": "execute_result"
    }
   ],
   "source": [
    "# Display the first few rows of the DataFrame for inspection\n",
    "# This helps us to check whether the data loading process was successful\n",
    "df.head()"
   ]
  }
 ],
 "metadata": {
  "kernelspec": {
   "display_name": "env",
   "language": "python",
   "name": "python3"
  },
  "language_info": {
   "codemirror_mode": {
    "name": "ipython",
    "version": 3
   },
   "file_extension": ".py",
   "mimetype": "text/x-python",
   "name": "python",
   "nbconvert_exporter": "python",
   "pygments_lexer": "ipython3",
   "version": "3.11.1"
  },
  "orig_nbformat": 4
 },
 "nbformat": 4,
 "nbformat_minor": 2
}
